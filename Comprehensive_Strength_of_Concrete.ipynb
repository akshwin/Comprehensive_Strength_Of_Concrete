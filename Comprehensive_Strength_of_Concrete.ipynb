{
 "cells": [
  {
   "cell_type": "markdown",
   "id": "976cfaac-4865-4221-af54-61af4cf86778",
   "metadata": {},
   "source": [
    "**COMPREHENSIVE STRENGTH OF CONCRETE**"
   ]
  },
  {
   "cell_type": "code",
   "execution_count": 1,
   "id": "2ae74cfa-221a-4f51-bc32-25f74aafdcd4",
   "metadata": {},
   "outputs": [],
   "source": [
    "# IMPORT LIBRARIES\n",
    "import numpy as np \n",
    "import pandas as pd \n",
    "import matplotlib.pyplot as plt\n",
    "import seaborn as sns\n",
    "import itertools \n",
    "%matplotlib inline "
   ]
  },
  {
   "cell_type": "code",
   "execution_count": null,
   "id": "c0f7c25d-9b04-4b0c-ad22-bee64a136c24",
   "metadata": {},
   "outputs": [],
   "source": [
    "from sklearn.preprocessing import StandardScaler\n",
    "from sklearn.model_selection import train_test_split\n",
    "from sklearn.linear_model import LinearRegression,Ridge,Lasso\n",
    "from sklearn.neighbors import KNeighborsRegressor\n",
    "from sklearn.tree import DecisionTreeRegressor\n",
    "from sklearn.ensemble import (RandomForestRegressor,GradientBoostingRegressor,AdaBoostRegressor)\n",
    "from sklearn.svm import SVR\n",
    "form sklearn import metrics \n",
    "from sklearn.ensemble import Voi=tingRegressor\n",
    "from scipy import stats \n",
    "from scipt.stats import zscore \n",
    "from sklearn.metrics import mean_squared_error,mean_absolute_error,r2_score\n",
    "from sklearn.model_selection import \n"
   ]
  }
 ],
 "metadata": {
  "kernelspec": {
   "display_name": "Python 3 (ipykernel)",
   "language": "python",
   "name": "python3"
  },
  "language_info": {
   "codemirror_mode": {
    "name": "ipython",
    "version": 3
   },
   "file_extension": ".py",
   "mimetype": "text/x-python",
   "name": "python",
   "nbconvert_exporter": "python",
   "pygments_lexer": "ipython3",
   "version": "3.9.13"
  }
 },
 "nbformat": 4,
 "nbformat_minor": 5
}
